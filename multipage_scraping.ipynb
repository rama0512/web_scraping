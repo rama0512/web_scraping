{
 "cells": [
  {
   "cell_type": "code",
   "execution_count": 174,
   "id": "027f9f53",
   "metadata": {},
   "outputs": [],
   "source": [
    "import requests\n",
    "from bs4 import BeautifulSoup\n",
    "import pandas as pd\n",
    "import time"
   ]
  },
  {
   "cell_type": "code",
   "execution_count": 175,
   "id": "1a08dffc",
   "metadata": {},
   "outputs": [],
   "source": [
    "df=pd.DataFrame(columns=['brand','name','link','price','rating'])"
   ]
  },
  {
   "cell_type": "code",
   "execution_count": 176,
   "id": "5b58cf69",
   "metadata": {},
   "outputs": [],
   "source": [
    "def brand_name(a):\n",
    "    b=a.find(\"div\",attrs={\"class\":\"_2WkVRV\"}).text\n",
    "    return b\n",
    "def get_title_name(a):\n",
    "    n=a.find(\"a\",attrs={\"class\":\"IRpwTa\"}).get('title')\n",
    "    return n\n",
    "def get_link(a,l):\n",
    "    li=l\n",
    "    return li\n",
    "def get_price(a):\n",
    "    p=a.find(\"div\",attrs={\"class\":\"_30jeq3\"}).text[1:]\n",
    "    return p\n",
    "def get_rating(a,l):\n",
    "        try:\n",
    "            HEADERS = ({'User-Agent':'Mozilla/5.0 (Windows NT 10.0; Win64; x64) AppleWebKit/537.36 (KHTML, like Gecko) Chrome/120.0.0.0 Safari/537.36', 'Accept-Language': 'en-US, en;q=0.5'})\n",
    "            webpage_r = requests.get(l, headers=HEADERS)\n",
    "            soup_r = BeautifulSoup(webpage_r.content, \"html.parser\")\n",
    "            rating=soup_r.find(\"div\",attrs={\"class\":\"_3LWZlK _3uSWvT\"}).text\n",
    "            return rating\n",
    "        except AttributeError:\n",
    "            return None\n",
    "    \n",
    "\n",
    "        \n",
    "        \n",
    "    \n",
    "    \n"
   ]
  },
  {
   "cell_type": "code",
   "execution_count": 177,
   "id": "9d66efd3",
   "metadata": {},
   "outputs": [],
   "source": [
    "def find_all_page_link(i,soup,page_links):\n",
    "    if i<=1:\n",
    "        i=i+1\n",
    "        next_url=\"https://www.flipkart.com\"+soup.find_all(\"a\",attrs={\"class\":\"_1LKTO3\"})[-1].get('href')\n",
    "        page_links.append(next_url)\n",
    "        HEADERS = ({'User-Agent':'Mozilla/5.0 (Windows NT 10.0; Win64; x64) AppleWebKit/537.36 (KHTML, like Gecko) Chrome/120.0.0.0 Safari/537.36', 'Accept-Language': 'en-US, en;q=0.5'})\n",
    "        next_webpage = requests.get(next_url, headers=HEADERS)\n",
    "        next_soup = BeautifulSoup(next_webpage.content, \"html.parser\")\n",
    "        find_all_page_link(i,next_soup,page_links)\n",
    "    else:\n",
    "        return page_links\n",
    "def extract_product_link(page_links):\n",
    "    for link in page_links:\n",
    "        HEADERS = ({'User-Agent':'Mozilla/5.0 (Windows NT 10.0; Win64; x64) AppleWebKit/537.36 (KHTML, like Gecko) Chrome/120.0.0.0 Safari/537.36', 'Accept-Language': 'en-US, en;q=0.5'})\n",
    "        webpage = requests.get(link, headers=HEADERS)\n",
    "        soup = BeautifulSoup(webpage.content, \"html.parser\")\n",
    "        product_data_per_page=soup.find_all(\"div\",attrs={\"class\":\"_1xHGtK _373qXS\"})\n",
    "        for a in product_data_per_page:\n",
    "            l='https://www.flipkart.com'+a.find(\"a\",attrs={\"class\":\"IRpwTa\"}).get('href')\n",
    "            length=len(df)\n",
    "            df.loc[length] = [brand_name(a),get_title_name(a),get_link(a,l),get_price(a),get_rating(a,l)]\n",
    "            \n",
    "            \n",
    "        \n",
    "    \n",
    "    \n",
    "\n",
    "        \n",
    "    \n",
    "    \n",
    "    \n",
    "    "
   ]
  },
  {
   "cell_type": "code",
   "execution_count": null,
   "id": "73e9cd82",
   "metadata": {},
   "outputs": [],
   "source": []
  },
  {
   "cell_type": "code",
   "execution_count": 178,
   "id": "0c5814a7",
   "metadata": {},
   "outputs": [
    {
     "name": "stdout",
     "output_type": "stream",
     "text": [
      "              brand                                             name  \\\n",
      "0   FashionAndYOUTH        Men Full Sleeve Printed Hooded Sweatshirt   \n",
      "1             TRIPR        Men Full Sleeve Printed Hooded Sweatshirt   \n",
      "2           TeeWink          Men Full Sleeve Solid Hooded Sweatshirt   \n",
      "3             ONE X        Men Full Sleeve Printed Hooded Sweatshirt   \n",
      "4          Try This        Men Full Sleeve Printed Hooded Sweatshirt   \n",
      "..              ...                                              ...   \n",
      "75          Austivo    Men Full Sleeve Color Block Hooded Sweatshirt   \n",
      "76           LEVI'S          Men Full Sleeve Solid Hooded Sweatshirt   \n",
      "77       VAN HEUSEN          Men Full Sleeve Solid Hooded Sweatshirt   \n",
      "78     CAMPUS SUTRA      Men Full Sleeve Checkered Hooded Sweatshirt   \n",
      "79            TRIPR  Men Full Sleeve Graphic Print Hooded Sweatshirt   \n",
      "\n",
      "                                                 link  price rating  \n",
      "0   https://www.flipkart.com/fashionandyouth-full-...    594      4  \n",
      "1   https://www.flipkart.com/tripr-full-sleeve-pri...    499      4  \n",
      "2   https://www.flipkart.com/teewink-full-sleeve-s...    499    3.9  \n",
      "3   https://www.flipkart.com/one-x-full-sleeve-pri...    499    3.9  \n",
      "4   https://www.flipkart.com/try-full-sleeve-print...    409      4  \n",
      "..                                                ...    ...    ...  \n",
      "75  https://www.flipkart.com/austivo-full-sleeve-c...    699    4.2  \n",
      "76  https://www.flipkart.com/levi-s-full-sleeve-so...  1,259    4.1  \n",
      "77  https://www.flipkart.com/van-heusen-full-sleev...  1,999    4.2  \n",
      "78  https://www.flipkart.com/campus-sutra-full-sle...    779    3.9  \n",
      "79  https://www.flipkart.com/tripr-full-sleeve-gra...    389    3.9  \n",
      "\n",
      "[80 rows x 5 columns]\n"
     ]
    }
   ],
   "source": [
    "if __name__=='__main__':\n",
    "    # add your user agent \n",
    "    HEADERS = ({'User-Agent':'Mozilla/5.0 (Windows NT 10.0; Win64; x64) AppleWebKit/537.36 (KHTML, like Gecko) Chrome/120.0.0.0 Safari/537.36', 'Accept-Language': 'en-US, en;q=0.5'})\n",
    "\n",
    "    # The webpage URL\n",
    "    URL = \"https://www.flipkart.com/q/mens-hoodies?sort=relevance\"\n",
    "\n",
    "    # HTTP Request\n",
    "    base_webpage = requests.get(URL, headers=HEADERS)\n",
    "\n",
    "    # Soup Object containing all data\n",
    "    soup = BeautifulSoup(base_webpage.content, \"html.parser\")\n",
    "    page_links=[]\n",
    "    q=soup.find(\"a\",attrs={\"class\":\"ge-49M _2Kfbh8\"})\n",
    "    page_links.append(\"https://www.flipkart.com\"+q.get('href'))\n",
    "    i=1\n",
    "    \n",
    "    find_all_page_link(i,soup,page_links)\n",
    "    extract_product_link(page_links)\n",
    "    print(df)\n",
    "    \n",
    "    "
   ]
  },
  {
   "cell_type": "code",
   "execution_count": 184,
   "id": "fa36f079",
   "metadata": {},
   "outputs": [],
   "source": [
    "df.to_csv('D:\\data_analytics datasets\\webscrapramflip6666.csv')"
   ]
  },
  {
   "cell_type": "code",
   "execution_count": null,
   "id": "3188e864",
   "metadata": {},
   "outputs": [],
   "source": []
  },
  {
   "cell_type": "code",
   "execution_count": null,
   "id": "4a8b6f2c",
   "metadata": {},
   "outputs": [],
   "source": []
  },
  {
   "cell_type": "code",
   "execution_count": null,
   "id": "40697cde",
   "metadata": {},
   "outputs": [],
   "source": []
  },
  {
   "cell_type": "code",
   "execution_count": null,
   "id": "033d9228",
   "metadata": {},
   "outputs": [],
   "source": []
  },
  {
   "cell_type": "code",
   "execution_count": null,
   "id": "8d492030",
   "metadata": {},
   "outputs": [],
   "source": []
  },
  {
   "cell_type": "code",
   "execution_count": null,
   "id": "309e011f",
   "metadata": {},
   "outputs": [],
   "source": []
  },
  {
   "cell_type": "code",
   "execution_count": null,
   "id": "ccbfa3d1",
   "metadata": {},
   "outputs": [],
   "source": []
  },
  {
   "cell_type": "code",
   "execution_count": null,
   "id": "8dce0715",
   "metadata": {},
   "outputs": [],
   "source": []
  },
  {
   "cell_type": "code",
   "execution_count": null,
   "id": "002c360a",
   "metadata": {},
   "outputs": [],
   "source": []
  },
  {
   "cell_type": "code",
   "execution_count": null,
   "id": "90ccea92",
   "metadata": {},
   "outputs": [],
   "source": []
  },
  {
   "cell_type": "code",
   "execution_count": null,
   "id": "9067253e",
   "metadata": {},
   "outputs": [],
   "source": []
  },
  {
   "cell_type": "code",
   "execution_count": null,
   "id": "c8fedf39",
   "metadata": {},
   "outputs": [],
   "source": []
  }
 ],
 "metadata": {
  "kernelspec": {
   "display_name": "Python 3 (ipykernel)",
   "language": "python",
   "name": "python3"
  },
  "language_info": {
   "codemirror_mode": {
    "name": "ipython",
    "version": 3
   },
   "file_extension": ".py",
   "mimetype": "text/x-python",
   "name": "python",
   "nbconvert_exporter": "python",
   "pygments_lexer": "ipython3",
   "version": "3.9.7"
  }
 },
 "nbformat": 4,
 "nbformat_minor": 5
}
